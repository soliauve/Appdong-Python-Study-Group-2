{
 "cells": [
  {
   "cell_type": "code",
   "execution_count": 1,
   "id": "cef9e144-aaa4-4765-a393-4d511f01488a",
   "metadata": {},
   "outputs": [
    {
     "name": "stdout",
     "output_type": "stream",
     "text": [
      "p t\n"
     ]
    }
   ],
   "source": [
    "letters = 'python'\n",
    "print(letters[0], letters[2])"
   ]
  },
  {
   "cell_type": "code",
   "execution_count": 5,
   "id": "b9111438-22c3-4ae2-a7c8-a1c1bb09bdee",
   "metadata": {
    "tags": []
   },
   "outputs": [
    {
     "name": "stdout",
     "output_type": "stream",
     "text": [
      "2210\n",
      "2210\n"
     ]
    }
   ],
   "source": [
    "lp = \"24가 2210\"\n",
    "print(lp[-4:]) #prints last four characters of the string\n",
    "print(lp[4:]) #prints everything excluding the index of the indicated number."
   ]
  },
  {
   "cell_type": "code",
   "execution_count": 6,
   "id": "68aeb395-214d-4bf1-b36a-8b9f4aef6816",
   "metadata": {
    "tags": []
   },
   "outputs": [
    {
     "name": "stdout",
     "output_type": "stream",
     "text": [
      "홀홀홀\n"
     ]
    }
   ],
   "source": [
    "#문자열 인덱싱 (X)\n",
    "string = \"홀짝홀짝홀짝\"\n",
    "print(string[::2])"
   ]
  },
  {
   "cell_type": "code",
   "execution_count": 7,
   "id": "54616cc3-ce0f-4974-b288-68c0bc724d31",
   "metadata": {
    "tags": []
   },
   "outputs": [
    {
     "name": "stdout",
     "output_type": "stream",
     "text": [
      "nohtyp\n"
     ]
    }
   ],
   "source": [
    "#문자열 슬라이싱 (X)\n",
    "string = 'python'\n",
    "print(string[::-1])"
   ]
  },
  {
   "cell_type": "code",
   "execution_count": 12,
   "id": "b4a337f8-a62a-4f65-aa59-0bfebcbcdbbb",
   "metadata": {
    "tags": []
   },
   "outputs": [
    {
     "name": "stdout",
     "output_type": "stream",
     "text": [
      "010 1111 2222\n"
     ]
    }
   ],
   "source": [
    "phone_number = \"010-1111-2222\"\n",
    "phone_number = phone_number.replace(\"-\", \" \") \n",
    "print(phone_number)"
   ]
  },
  {
   "cell_type": "code",
   "execution_count": 13,
   "id": "bbe56d4d-29b2-45b3-8db9-154973424152",
   "metadata": {
    "tags": []
   },
   "outputs": [
    {
     "name": "stdout",
     "output_type": "stream",
     "text": [
      "01011112222\n"
     ]
    }
   ],
   "source": [
    "phone_number = \"010-1111-2222\"\n",
    "phone_number = phone_number.replace(\"-\", \"\") \n",
    "print(phone_number)"
   ]
  },
  {
   "cell_type": "code",
   "execution_count": 15,
   "id": "df0abe41-bfc2-4f5d-ba81-ee184abc4d83",
   "metadata": {
    "tags": []
   },
   "outputs": [
    {
     "name": "stdout",
     "output_type": "stream",
     "text": [
      "kr\n"
     ]
    }
   ],
   "source": [
    "url = \"http://sharebook.kr\"\n",
    "url = url.split('.')\n",
    "print(url[-1])"
   ]
  },
  {
   "cell_type": "code",
   "execution_count": 17,
   "id": "29fa6cce-ca96-4766-9a45-eb41de69a816",
   "metadata": {
    "tags": []
   },
   "outputs": [
    {
     "ename": "TypeError",
     "evalue": "'str' object does not support item assignment",
     "output_type": "error",
     "traceback": [
      "\u001b[0;31m---------------------------------------------------------------------------\u001b[0m",
      "\u001b[0;31mTypeError\u001b[0m                                 Traceback (most recent call last)",
      "Cell \u001b[0;32mIn[17], line 2\u001b[0m\n\u001b[1;32m      1\u001b[0m lang \u001b[38;5;241m=\u001b[39m \u001b[38;5;124m'\u001b[39m\u001b[38;5;124mpython\u001b[39m\u001b[38;5;124m'\u001b[39m\n\u001b[0;32m----> 2\u001b[0m lang[\u001b[38;5;241m0\u001b[39m] \u001b[38;5;241m=\u001b[39m \u001b[38;5;124m'\u001b[39m\u001b[38;5;124mP\u001b[39m\u001b[38;5;124m'\u001b[39m\n\u001b[1;32m      3\u001b[0m \u001b[38;5;28mprint\u001b[39m(lang)\n",
      "\u001b[0;31mTypeError\u001b[0m: 'str' object does not support item assignment"
     ]
    }
   ],
   "source": [
    "lang = 'python'\n",
    "lang[0] = 'P'\n",
    "print(lang)"
   ]
  },
  {
   "cell_type": "code",
   "execution_count": 18,
   "id": "4bdc753e-e8fd-4856-afc0-e3cdf93d30fc",
   "metadata": {
    "tags": []
   },
   "outputs": [
    {
     "name": "stdout",
     "output_type": "stream",
     "text": [
      "Abcdfe2A354A32A\n"
     ]
    }
   ],
   "source": [
    "string = 'abcdfe2a354a32a'\n",
    "string = string.replace(\"a\", \"A\")\n",
    "print(string)"
   ]
  },
  {
   "cell_type": "code",
   "execution_count": 19,
   "id": "4d81ff9c-7484-4635-bbd7-ef1c4ef210e7",
   "metadata": {
    "tags": []
   },
   "outputs": [
    {
     "name": "stdout",
     "output_type": "stream",
     "text": [
      "abcd\n"
     ]
    }
   ],
   "source": [
    "string = \"abcd\"\n",
    "string.replace('b', 'B')\n",
    "print(string)"
   ]
  },
  {
   "cell_type": "code",
   "execution_count": 21,
   "id": "5ec0b1bd-6a7c-480d-b1ad-efc836b4132a",
   "metadata": {
    "tags": []
   },
   "outputs": [
    {
     "name": "stdout",
     "output_type": "stream",
     "text": [
      "34\n"
     ]
    }
   ],
   "source": [
    "a = \"3\"\n",
    "b = \"4\"\n",
    "print(a+b)"
   ]
  },
  {
   "cell_type": "code",
   "execution_count": 22,
   "id": "d9c1ce5b-ff7b-4e2c-a56b-a6ae736a3d6c",
   "metadata": {
    "tags": []
   },
   "outputs": [
    {
     "name": "stdout",
     "output_type": "stream",
     "text": [
      "HiHiHi\n"
     ]
    }
   ],
   "source": [
    "print(\"Hi\" * 3)"
   ]
  },
  {
   "cell_type": "code",
   "execution_count": 23,
   "id": "79bf684a-8656-4f64-b0fc-a6d02fe06440",
   "metadata": {
    "tags": []
   },
   "outputs": [
    {
     "name": "stdout",
     "output_type": "stream",
     "text": [
      "--------------------------------------------------------------------------------\n"
     ]
    }
   ],
   "source": [
    "print(\"-\"*80)"
   ]
  },
  {
   "cell_type": "code",
   "execution_count": 26,
   "id": "c93c4acc-d170-4503-b237-3ca0703a1863",
   "metadata": {
    "tags": []
   },
   "outputs": [
    {
     "name": "stdout",
     "output_type": "stream",
     "text": [
      "python java python java python java python java \n"
     ]
    }
   ],
   "source": [
    "t1 = \"python\"\n",
    "t2 = \"java\"\n",
    "print((t1 + ' ' + t2 + ' ') * 4) #my_soln"
   ]
  },
  {
   "cell_type": "code",
   "execution_count": 27,
   "id": "5d77f6a5-3b3e-4952-ba58-cb42563c015d",
   "metadata": {
    "tags": []
   },
   "outputs": [
    {
     "name": "stdout",
     "output_type": "stream",
     "text": [
      "python java python java python java python java \n"
     ]
    }
   ],
   "source": [
    "t1 = \"python\"\n",
    "t2 = \"java\"\n",
    "t3 = t1 + ' ' + t2 + ' '\n",
    "print(t3 * 4) #web에 있는 솔루션"
   ]
  },
  {
   "cell_type": "code",
   "execution_count": 30,
   "id": "a8f7754c-3bf0-43d3-ba79-0cf82a67140b",
   "metadata": {
    "tags": []
   },
   "outputs": [
    {
     "name": "stdout",
     "output_type": "stream",
     "text": [
      "이름: 김민수 나이: 10\n",
      "이름: 이철희 나이: 13\n"
     ]
    }
   ],
   "source": [
    "name1 = \"김민수\" \n",
    "age1 = 10\n",
    "name2 = \"이철희\"\n",
    "age2 = 13\n",
    "print(\"이름: %s 나이: %d\" %(name1, age1))\n",
    "print(\"이름: %s 나이: %d\" %(name2, age2))"
   ]
  },
  {
   "cell_type": "code",
   "execution_count": 31,
   "id": "ac35f06a-a503-4ffc-a02e-1039697cbcb8",
   "metadata": {
    "tags": []
   },
   "outputs": [
    {
     "name": "stdout",
     "output_type": "stream",
     "text": [
      "이름: 김민수 나이: 10\n",
      "이름: 이철희 나이: 13\n"
     ]
    }
   ],
   "source": [
    "name1 = \"김민수\" \n",
    "age1 = 10\n",
    "name2 = \"이철희\"\n",
    "age2 = 13\n",
    "print(\"이름: {} 나이: {}\" .format(name1, age1))\n",
    "print(\"이름: {} 나이: {}\" .format(name2, age2))\n"
   ]
  },
  {
   "cell_type": "code",
   "execution_count": 34,
   "id": "3b8afe0c-3824-41f7-8ea1-81a49727577b",
   "metadata": {
    "tags": []
   },
   "outputs": [
    {
     "name": "stdout",
     "output_type": "stream",
     "text": [
      "5969782550 <class 'int'>\n"
     ]
    }
   ],
   "source": [
    "상장주식수 = \"5,969,782,550\"\n",
    "상장주식수 = 상장주식수.replace(\",\", \"\")\n",
    "상장주식수 = int(상장주식수)\n",
    "print(상장주식수, type(상장주식수))"
   ]
  },
  {
   "cell_type": "code",
   "execution_count": 37,
   "id": "62c2511d-95c2-4df9-abc8-e0d9183eb96a",
   "metadata": {
    "tags": []
   },
   "outputs": [
    {
     "name": "stdout",
     "output_type": "stream",
     "text": [
      "2020/03\n",
      "2020/03\n"
     ]
    }
   ],
   "source": [
    "분기 = \"2020/03(E) (IFRS연결)\"\n",
    "print(분기[:7])\n",
    "print(분기[:-12])"
   ]
  },
  {
   "cell_type": "code",
   "execution_count": 39,
   "id": "21191b9c-3016-4f4b-b3fa-b918e6296ec6",
   "metadata": {
    "tags": []
   },
   "outputs": [
    {
     "name": "stdout",
     "output_type": "stream",
     "text": [
      "삼성전자\n"
     ]
    }
   ],
   "source": [
    "data = \"   삼성전자    \"\n",
    "data = data.strip(\" \")\n",
    "print(data)"
   ]
  },
  {
   "cell_type": "code",
   "execution_count": 45,
   "id": "92d8ca73-d7f7-4e44-8f70-6465820fcca1",
   "metadata": {
    "tags": []
   },
   "outputs": [
    {
     "name": "stdout",
     "output_type": "stream",
     "text": [
      "BTC_KRW btc_krw\n"
     ]
    }
   ],
   "source": [
    "ticker = \"btc_krw\"\n",
    "ticker_up = ticker.upper()\n",
    "ticker_dn = ticker.lower()\n",
    "print(ticker_up, ticker_dn)"
   ]
  },
  {
   "cell_type": "code",
   "execution_count": 46,
   "id": "0c130031-0d97-463f-afbd-5af045fb6dcd",
   "metadata": {
    "tags": []
   },
   "outputs": [
    {
     "name": "stdout",
     "output_type": "stream",
     "text": [
      "Hello\n"
     ]
    }
   ],
   "source": [
    "str = \"hello\"\n",
    "str_1 = str.capitalize()\n",
    "print(str_1)"
   ]
  },
  {
   "cell_type": "code",
   "execution_count": 50,
   "id": "cab8ad6b-a558-482f-bbbe-b10cd6455b52",
   "metadata": {
    "tags": []
   },
   "outputs": [
    {
     "name": "stdout",
     "output_type": "stream",
     "text": [
      "True\n"
     ]
    }
   ],
   "source": [
    "file_name = \"보고서.xlsx\"\n",
    "tf = file_name.endswith(\"xlsx\")\n",
    "print(tf)"
   ]
  },
  {
   "cell_type": "code",
   "execution_count": 53,
   "id": "d22ad1e0-7fff-49b3-b6f6-a6e3623e8287",
   "metadata": {
    "tags": []
   },
   "outputs": [
    {
     "name": "stdout",
     "output_type": "stream",
     "text": [
      "True\n"
     ]
    }
   ],
   "source": [
    "file_name = \"보고서.xlsx\"\n",
    "tf_1 = file_name.endswith((\"xlsx\", \"xls\"))\n",
    "print(tf_1)"
   ]
  },
  {
   "cell_type": "code",
   "execution_count": 60,
   "id": "dda4cc00-b48c-4035-aa98-8fd6cd9119d1",
   "metadata": {
    "tags": []
   },
   "outputs": [
    {
     "name": "stdout",
     "output_type": "stream",
     "text": [
      "['hello', 'world']\n"
     ]
    }
   ],
   "source": [
    "a = \"hello world\"\n",
    "a_split = a.split() #omits the specified character. but in default it is space. space 없는 경우 it returns the entire string variable. \n",
    "print(a_split)"
   ]
  },
  {
   "cell_type": "code",
   "execution_count": null,
   "id": "f62425c1-96b9-4c82-baeb-e07029ed59d1",
   "metadata": {},
   "outputs": [],
   "source": [
    "#48부터 함."
   ]
  }
 ],
 "metadata": {
  "kernelspec": {
   "display_name": "Python 3 (ipykernel)",
   "language": "python",
   "name": "python3"
  },
  "language_info": {
   "codemirror_mode": {
    "name": "ipython",
    "version": 3
   },
   "file_extension": ".py",
   "mimetype": "text/x-python",
   "name": "python",
   "nbconvert_exporter": "python",
   "pygments_lexer": "ipython3",
   "version": "3.11.4"
  }
 },
 "nbformat": 4,
 "nbformat_minor": 5
}
