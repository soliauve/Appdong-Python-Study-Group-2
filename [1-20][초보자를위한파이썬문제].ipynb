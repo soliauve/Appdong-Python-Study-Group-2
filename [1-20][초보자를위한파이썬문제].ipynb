{
 "cells": [
  {
   "cell_type": "code",
   "execution_count": 1,
   "id": "8b38e472-041f-40ca-8a84-f3d4afaaf238",
   "metadata": {
    "tags": []
   },
   "outputs": [
    {
     "name": "stdout",
     "output_type": "stream",
     "text": [
      "Hello World\n"
     ]
    }
   ],
   "source": [
    "print(\"Hello World\")"
   ]
  },
  {
   "cell_type": "code",
   "execution_count": 2,
   "id": "e3ca4307-a426-4591-a005-ded72a1909fb",
   "metadata": {
    "tags": []
   },
   "outputs": [
    {
     "name": "stdout",
     "output_type": "stream",
     "text": [
      "Mary's Cosmetics\n"
     ]
    }
   ],
   "source": [
    "print(\"Mary's Cosmetics\")"
   ]
  },
  {
   "cell_type": "code",
   "execution_count": 5,
   "id": "d46bbfac-3cb3-4c42-b45a-6f0affa65df6",
   "metadata": {
    "tags": []
   },
   "outputs": [
    {
     "name": "stdout",
     "output_type": "stream",
     "text": [
      "신씨가 소리질렀다. \"도둑이다\"\n"
     ]
    }
   ],
   "source": [
    "print('신씨가 소리질렀다. \"도둑이다\"')"
   ]
  },
  {
   "cell_type": "code",
   "execution_count": 7,
   "id": "92a3041c-3d43-4d2a-bb1a-4135991924f0",
   "metadata": {
    "tags": []
   },
   "outputs": [
    {
     "name": "stdout",
     "output_type": "stream",
     "text": [
      "C:\\Windows\n"
     ]
    }
   ],
   "source": [
    "print('C:\\Windows')"
   ]
  },
  {
   "cell_type": "code",
   "execution_count": 10,
   "id": "fefe2f89-8d8b-4214-a5d0-7b3427b3daab",
   "metadata": {
    "tags": []
   },
   "outputs": [
    {
     "name": "stdout",
     "output_type": "stream",
     "text": [
      "안녕하세요.\n",
      "만나서반갑습니다.\n"
     ]
    }
   ],
   "source": [
    "print(\"안녕하세요.\\n만나서반갑습니다.\")"
   ]
  },
  {
   "cell_type": "code",
   "execution_count": 11,
   "id": "8987587c-e3a8-4ab0-8629-5a91b41a10c5",
   "metadata": {
    "tags": []
   },
   "outputs": [
    {
     "name": "stdout",
     "output_type": "stream",
     "text": [
      "오늘은 일요일\n"
     ]
    }
   ],
   "source": [
    "print (\"오늘은\", \"일요일\")"
   ]
  },
  {
   "cell_type": "code",
   "execution_count": 12,
   "id": "bfd2153a-1873-41f2-b828-efdfbf1cdac8",
   "metadata": {
    "tags": []
   },
   "outputs": [
    {
     "name": "stdout",
     "output_type": "stream",
     "text": [
      "naver;kakao;sk;samsung\n"
     ]
    }
   ],
   "source": [
    "print(\"naver;kakao;sk;samsung\")"
   ]
  },
  {
   "cell_type": "code",
   "execution_count": 13,
   "id": "afbf214d-67ae-4567-b7bb-2e601b6ef543",
   "metadata": {
    "tags": []
   },
   "outputs": [
    {
     "name": "stdout",
     "output_type": "stream",
     "text": [
      "naver;kakao;sk;samsung\n"
     ]
    }
   ],
   "source": [
    "print(\"naver\", \"kakao\", \"sk\", \"samsung\", sep=\";\")"
   ]
  },
  {
   "cell_type": "code",
   "execution_count": 14,
   "id": "8e2b993d-c2b8-47fd-b07c-4c52e3a5d0c1",
   "metadata": {
    "tags": []
   },
   "outputs": [
    {
     "name": "stdout",
     "output_type": "stream",
     "text": [
      "naver/kakao/sk/samsung\n"
     ]
    }
   ],
   "source": [
    "print(\"naver\", \"kakao\", \"sk\",\"samsung\", sep=\"/\")"
   ]
  },
  {
   "cell_type": "code",
   "execution_count": 15,
   "id": "bef42a65-6927-4893-a725-c30bdb770036",
   "metadata": {
    "tags": []
   },
   "outputs": [
    {
     "name": "stdout",
     "output_type": "stream",
     "text": [
      "naver/kakao/sk/samsmung\n"
     ]
    }
   ],
   "source": [
    "print('naver/kakao/sk/samsmung')"
   ]
  },
  {
   "cell_type": "code",
   "execution_count": 16,
   "id": "ecb40abf-2e49-4642-bc62-431c169fa725",
   "metadata": {
    "tags": []
   },
   "outputs": [
    {
     "name": "stdout",
     "output_type": "stream",
     "text": [
      "first\n",
      "second\n"
     ]
    }
   ],
   "source": [
    "print(\"first\");print(\"second\")"
   ]
  },
  {
   "cell_type": "code",
   "execution_count": 18,
   "id": "e1fdf9d6-0379-4268-abc6-8e6b7e05d9f4",
   "metadata": {
    "tags": []
   },
   "outputs": [
    {
     "name": "stdout",
     "output_type": "stream",
     "text": [
      "firstsecond\n"
     ]
    }
   ],
   "source": [
    "print(\"first\", end=\"\"); print(\"second\")"
   ]
  },
  {
   "cell_type": "code",
   "execution_count": 19,
   "id": "6ff847cb-3cea-4bcf-a331-c230c9256462",
   "metadata": {
    "tags": []
   },
   "outputs": [
    {
     "name": "stdout",
     "output_type": "stream",
     "text": [
      "1.6666666666666667\n"
     ]
    }
   ],
   "source": [
    "print(5/3)"
   ]
  },
  {
   "cell_type": "code",
   "execution_count": 21,
   "id": "f36da61e-7290-46b6-96ce-b3c74b5d19b8",
   "metadata": {
    "tags": []
   },
   "outputs": [
    {
     "name": "stdout",
     "output_type": "stream",
     "text": [
      "500000\n"
     ]
    }
   ],
   "source": [
    "samsung = 50000;\n",
    "print(10*samsung);"
   ]
  },
  {
   "cell_type": "raw",
   "id": "f2126c09-49f0-48ea-b8bc-b9b1cbccc453",
   "metadata": {},
   "source": [
    "시가총액 = 298;\n",
    "현재가 = 50000;\n",
    "PER = 15.79;"
   ]
  },
  {
   "cell_type": "code",
   "execution_count": 22,
   "id": "16796f60-f1c1-48d4-b6d6-2058b3c1d6d9",
   "metadata": {
    "tags": []
   },
   "outputs": [
    {
     "name": "stdout",
     "output_type": "stream",
     "text": [
      "298000000000000 <class 'int'>\n",
      "50000 <class 'int'>\n",
      "15.79 <class 'float'>\n"
     ]
    }
   ],
   "source": [
    "시가총액 = 298000000000000\n",
    "현재가 = 50000\n",
    "PER = 15.79\n",
    "print(시가총액, type(시가총액))\n",
    "print(현재가, type(현재가))\n",
    "print(PER, type(PER))\n"
   ]
  },
  {
   "cell_type": "code",
   "execution_count": 25,
   "id": "d763b035-0abb-4925-ae51-a891184ad7a7",
   "metadata": {
    "tags": []
   },
   "outputs": [
    {
     "name": "stdout",
     "output_type": "stream",
     "text": [
      "hello! python\n"
     ]
    }
   ],
   "source": [
    "s = \"hello\"\n",
    "t = \"python\"\n",
    "print(s +\"!\", t)"
   ]
  },
  {
   "cell_type": "code",
   "execution_count": 26,
   "id": "98ec549b-9908-4ed2-8395-9e5c34a5a5b8",
   "metadata": {
    "tags": []
   },
   "outputs": [
    {
     "data": {
      "text/plain": [
       "8"
      ]
     },
     "execution_count": 26,
     "metadata": {},
     "output_type": "execute_result"
    }
   ],
   "source": [
    "2+2*3"
   ]
  },
  {
   "cell_type": "code",
   "execution_count": 27,
   "id": "5d9a73c1-00b2-423a-8370-283ed20c6724",
   "metadata": {
    "tags": []
   },
   "outputs": [
    {
     "name": "stdout",
     "output_type": "stream",
     "text": [
      "<class 'int'>\n"
     ]
    }
   ],
   "source": [
    "a = 128\n",
    "print(type(a))"
   ]
  },
  {
   "cell_type": "code",
   "execution_count": 30,
   "id": "ff4ba3c4-8140-4fd1-9656-715473145195",
   "metadata": {
    "tags": []
   },
   "outputs": [
    {
     "name": "stdout",
     "output_type": "stream",
     "text": [
      "<class 'float'>\n"
     ]
    }
   ],
   "source": [
    "a = 132909090090.00\n",
    "print(type(a))"
   ]
  },
  {
   "cell_type": "code",
   "execution_count": 34,
   "id": "3e44df85-46a4-45a1-b19c-6f8ce713455c",
   "metadata": {
    "tags": []
   },
   "outputs": [
    {
     "name": "stdout",
     "output_type": "stream",
     "text": [
      "721 <class 'int'>\n"
     ]
    }
   ],
   "source": [
    "num_str = '720';\n",
    "num_str = int(num_str);\n",
    "print(num_str+1, type(num_str))"
   ]
  },
  {
   "cell_type": "code",
   "execution_count": 35,
   "id": "2fcbafc6-91fa-4a6b-8727-45b8b4068ffa",
   "metadata": {
    "tags": []
   },
   "outputs": [
    {
     "name": "stdout",
     "output_type": "stream",
     "text": [
      "100 <class 'str'>\n"
     ]
    }
   ],
   "source": [
    "num = 100;\n",
    "num = str(num);\n",
    "print(num, type(num))"
   ]
  },
  {
   "cell_type": "code",
   "execution_count": 38,
   "id": "41fa3593-94ff-46f2-a34d-57e59bdc3541",
   "metadata": {
    "tags": []
   },
   "outputs": [
    {
     "name": "stdout",
     "output_type": "stream",
     "text": [
      "15.79 <class 'float'>\n"
     ]
    }
   ],
   "source": [
    "x = \"15.79\";\n",
    "x = float(x);\n",
    "print(x, type(x))"
   ]
  },
  {
   "cell_type": "code",
   "execution_count": 41,
   "id": "59c7fe5a-e216-493a-8d0e-e18d760b2f8b",
   "metadata": {
    "tags": []
   },
   "outputs": [
    {
     "name": "stdout",
     "output_type": "stream",
     "text": [
      "2020\n",
      "2019\n",
      "2018\n"
     ]
    }
   ],
   "source": [
    "year = \"2020\";\n",
    "year = int(year);\n",
    "for i in range(3):\n",
    "    print(year - i);"
   ]
  },
  {
   "cell_type": "code",
   "execution_count": 42,
   "id": "73453976-75a3-4db3-8976-c03acb3192c7",
   "metadata": {
    "tags": []
   },
   "outputs": [
    {
     "name": "stdout",
     "output_type": "stream",
     "text": [
      "2017\n",
      "2018\n",
      "2019\n"
     ]
    }
   ],
   "source": [
    "year = \"2020\"\n",
    "print(int(year)-3)\n",
    "print(int(year)-2)\n",
    "print(int(year)-1)"
   ]
  },
  {
   "cell_type": "code",
   "execution_count": 43,
   "id": "fb8b8f81-ad74-4bd3-8f33-bd8228ca95bc",
   "metadata": {
    "tags": []
   },
   "outputs": [
    {
     "name": "stdout",
     "output_type": "stream",
     "text": [
      "1749024\n"
     ]
    }
   ],
   "source": [
    "installment = 48584;\n",
    "payment_length = 36;\n",
    "total = installment*payment_length;\n",
    "print(total)"
   ]
  },
  {
   "cell_type": "code",
   "execution_count": 44,
   "id": "f3dbbcf6-4476-4a55-9e72-fa71580c8895",
   "metadata": {
    "tags": []
   },
   "outputs": [
    {
     "name": "stdout",
     "output_type": "stream",
     "text": [
      "1749024\n"
     ]
    }
   ],
   "source": [
    "월 = 48584\n",
    "총금액 = 월 * 36\n",
    "print(총금액)"
   ]
  },
  {
   "cell_type": "code",
   "execution_count": null,
   "id": "b9a009e3-dcba-4d4a-85f6-f90f5381d5cd",
   "metadata": {},
   "outputs": [],
   "source": []
  }
 ],
 "metadata": {
  "kernelspec": {
   "display_name": "Python 3 (ipykernel)",
   "language": "python",
   "name": "python3"
  },
  "language_info": {
   "codemirror_mode": {
    "name": "ipython",
    "version": 3
   },
   "file_extension": ".py",
   "mimetype": "text/x-python",
   "name": "python",
   "nbconvert_exporter": "python",
   "pygments_lexer": "ipython3",
   "version": "3.11.4"
  }
 },
 "nbformat": 4,
 "nbformat_minor": 5
}
